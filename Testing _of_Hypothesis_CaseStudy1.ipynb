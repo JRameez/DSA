{
 "cells": [
  {
   "cell_type": "code",
   "execution_count": 26,
   "id": "383d7caa",
   "metadata": {},
   "outputs": [],
   "source": [
    "import numpy as np\n",
    "import pandas as pd\n",
    "import statistics as stat"
   ]
  },
  {
   "cell_type": "code",
   "execution_count": 27,
   "id": "572c10f7",
   "metadata": {},
   "outputs": [],
   "source": [
    "data = pd.read_csv(r'F:\\DSA\\Sales_add.csv')"
   ]
  },
  {
   "cell_type": "code",
   "execution_count": 28,
   "id": "740cf448",
   "metadata": {},
   "outputs": [
    {
     "data": {
      "text/html": [
       "<div>\n",
       "<style scoped>\n",
       "    .dataframe tbody tr th:only-of-type {\n",
       "        vertical-align: middle;\n",
       "    }\n",
       "\n",
       "    .dataframe tbody tr th {\n",
       "        vertical-align: top;\n",
       "    }\n",
       "\n",
       "    .dataframe thead th {\n",
       "        text-align: right;\n",
       "    }\n",
       "</style>\n",
       "<table border=\"1\" class=\"dataframe\">\n",
       "  <thead>\n",
       "    <tr style=\"text-align: right;\">\n",
       "      <th></th>\n",
       "      <th>Month</th>\n",
       "      <th>Region</th>\n",
       "      <th>Manager</th>\n",
       "      <th>Sales_before_digital_add(in $)</th>\n",
       "      <th>Sales_After_digital_add(in $)</th>\n",
       "    </tr>\n",
       "  </thead>\n",
       "  <tbody>\n",
       "    <tr>\n",
       "      <th>0</th>\n",
       "      <td>Month-1</td>\n",
       "      <td>Region - A</td>\n",
       "      <td>Manager - A</td>\n",
       "      <td>132921</td>\n",
       "      <td>270390</td>\n",
       "    </tr>\n",
       "    <tr>\n",
       "      <th>1</th>\n",
       "      <td>Month-2</td>\n",
       "      <td>Region - A</td>\n",
       "      <td>Manager - C</td>\n",
       "      <td>149559</td>\n",
       "      <td>223334</td>\n",
       "    </tr>\n",
       "    <tr>\n",
       "      <th>2</th>\n",
       "      <td>Month-3</td>\n",
       "      <td>Region - B</td>\n",
       "      <td>Manager - A</td>\n",
       "      <td>146278</td>\n",
       "      <td>244243</td>\n",
       "    </tr>\n",
       "    <tr>\n",
       "      <th>3</th>\n",
       "      <td>Month-4</td>\n",
       "      <td>Region - B</td>\n",
       "      <td>Manager - B</td>\n",
       "      <td>152167</td>\n",
       "      <td>231808</td>\n",
       "    </tr>\n",
       "    <tr>\n",
       "      <th>4</th>\n",
       "      <td>Month-5</td>\n",
       "      <td>Region - C</td>\n",
       "      <td>Manager - B</td>\n",
       "      <td>159525</td>\n",
       "      <td>258402</td>\n",
       "    </tr>\n",
       "    <tr>\n",
       "      <th>5</th>\n",
       "      <td>Month-6</td>\n",
       "      <td>Region - A</td>\n",
       "      <td>Manager - B</td>\n",
       "      <td>137163</td>\n",
       "      <td>256948</td>\n",
       "    </tr>\n",
       "    <tr>\n",
       "      <th>6</th>\n",
       "      <td>Month-7</td>\n",
       "      <td>Region - C</td>\n",
       "      <td>Manager - C</td>\n",
       "      <td>130625</td>\n",
       "      <td>222106</td>\n",
       "    </tr>\n",
       "    <tr>\n",
       "      <th>7</th>\n",
       "      <td>Month-8</td>\n",
       "      <td>Region - A</td>\n",
       "      <td>Manager - A</td>\n",
       "      <td>131140</td>\n",
       "      <td>230637</td>\n",
       "    </tr>\n",
       "    <tr>\n",
       "      <th>8</th>\n",
       "      <td>Month-9</td>\n",
       "      <td>Region - B</td>\n",
       "      <td>Manager - C</td>\n",
       "      <td>171259</td>\n",
       "      <td>226261</td>\n",
       "    </tr>\n",
       "    <tr>\n",
       "      <th>9</th>\n",
       "      <td>Month-10</td>\n",
       "      <td>Region - C</td>\n",
       "      <td>Manager - B</td>\n",
       "      <td>141956</td>\n",
       "      <td>193735</td>\n",
       "    </tr>\n",
       "    <tr>\n",
       "      <th>10</th>\n",
       "      <td>Month-11</td>\n",
       "      <td>Region - B</td>\n",
       "      <td>Manager - C</td>\n",
       "      <td>159339</td>\n",
       "      <td>203175</td>\n",
       "    </tr>\n",
       "    <tr>\n",
       "      <th>11</th>\n",
       "      <td>Month-12</td>\n",
       "      <td>Region - A</td>\n",
       "      <td>Manager - A</td>\n",
       "      <td>178939</td>\n",
       "      <td>276279</td>\n",
       "    </tr>\n",
       "    <tr>\n",
       "      <th>12</th>\n",
       "      <td>Month-13</td>\n",
       "      <td>Region - B</td>\n",
       "      <td>Manager - A</td>\n",
       "      <td>145062</td>\n",
       "      <td>205180</td>\n",
       "    </tr>\n",
       "    <tr>\n",
       "      <th>13</th>\n",
       "      <td>Month-14</td>\n",
       "      <td>Region - A</td>\n",
       "      <td>Manager - A</td>\n",
       "      <td>151514</td>\n",
       "      <td>253131</td>\n",
       "    </tr>\n",
       "    <tr>\n",
       "      <th>14</th>\n",
       "      <td>Month-15</td>\n",
       "      <td>Region - C</td>\n",
       "      <td>Manager - A</td>\n",
       "      <td>147463</td>\n",
       "      <td>229336</td>\n",
       "    </tr>\n",
       "    <tr>\n",
       "      <th>15</th>\n",
       "      <td>Month-16</td>\n",
       "      <td>Region - A</td>\n",
       "      <td>Manager - B</td>\n",
       "      <td>177195</td>\n",
       "      <td>187305</td>\n",
       "    </tr>\n",
       "    <tr>\n",
       "      <th>16</th>\n",
       "      <td>Month-17</td>\n",
       "      <td>Region - A</td>\n",
       "      <td>Manager - C</td>\n",
       "      <td>140862</td>\n",
       "      <td>234908</td>\n",
       "    </tr>\n",
       "    <tr>\n",
       "      <th>17</th>\n",
       "      <td>Month-18</td>\n",
       "      <td>Region - C</td>\n",
       "      <td>Manager - B</td>\n",
       "      <td>167996</td>\n",
       "      <td>191517</td>\n",
       "    </tr>\n",
       "    <tr>\n",
       "      <th>18</th>\n",
       "      <td>Month-19</td>\n",
       "      <td>Region - B</td>\n",
       "      <td>Manager - A</td>\n",
       "      <td>132135</td>\n",
       "      <td>227040</td>\n",
       "    </tr>\n",
       "    <tr>\n",
       "      <th>19</th>\n",
       "      <td>Month-20</td>\n",
       "      <td>Region - A</td>\n",
       "      <td>Manager - B</td>\n",
       "      <td>152493</td>\n",
       "      <td>212579</td>\n",
       "    </tr>\n",
       "    <tr>\n",
       "      <th>20</th>\n",
       "      <td>Month-21</td>\n",
       "      <td>Region - B</td>\n",
       "      <td>Manager - A</td>\n",
       "      <td>147425</td>\n",
       "      <td>263388</td>\n",
       "    </tr>\n",
       "    <tr>\n",
       "      <th>21</th>\n",
       "      <td>Month-22</td>\n",
       "      <td>Region - A</td>\n",
       "      <td>Manager - C</td>\n",
       "      <td>130263</td>\n",
       "      <td>243020</td>\n",
       "    </tr>\n",
       "  </tbody>\n",
       "</table>\n",
       "</div>"
      ],
      "text/plain": [
       "       Month      Region      Manager  Sales_before_digital_add(in $)  \\\n",
       "0    Month-1  Region - A  Manager - A                          132921   \n",
       "1    Month-2  Region - A  Manager - C                          149559   \n",
       "2    Month-3  Region - B  Manager - A                          146278   \n",
       "3    Month-4  Region - B  Manager - B                          152167   \n",
       "4    Month-5  Region - C  Manager - B                          159525   \n",
       "5    Month-6  Region - A  Manager - B                          137163   \n",
       "6    Month-7  Region - C  Manager - C                          130625   \n",
       "7    Month-8  Region - A  Manager - A                          131140   \n",
       "8    Month-9  Region - B  Manager - C                          171259   \n",
       "9   Month-10  Region - C  Manager - B                          141956   \n",
       "10  Month-11  Region - B  Manager - C                          159339   \n",
       "11  Month-12  Region - A  Manager - A                          178939   \n",
       "12  Month-13  Region - B  Manager - A                          145062   \n",
       "13  Month-14  Region - A  Manager - A                          151514   \n",
       "14  Month-15  Region - C  Manager - A                          147463   \n",
       "15  Month-16  Region - A  Manager - B                          177195   \n",
       "16  Month-17  Region - A  Manager - C                          140862   \n",
       "17  Month-18  Region - C  Manager - B                          167996   \n",
       "18  Month-19  Region - B  Manager - A                          132135   \n",
       "19  Month-20  Region - A  Manager - B                          152493   \n",
       "20  Month-21  Region - B  Manager - A                          147425   \n",
       "21  Month-22  Region - A  Manager - C                          130263   \n",
       "\n",
       "    Sales_After_digital_add(in $)  \n",
       "0                          270390  \n",
       "1                          223334  \n",
       "2                          244243  \n",
       "3                          231808  \n",
       "4                          258402  \n",
       "5                          256948  \n",
       "6                          222106  \n",
       "7                          230637  \n",
       "8                          226261  \n",
       "9                          193735  \n",
       "10                         203175  \n",
       "11                         276279  \n",
       "12                         205180  \n",
       "13                         253131  \n",
       "14                         229336  \n",
       "15                         187305  \n",
       "16                         234908  \n",
       "17                         191517  \n",
       "18                         227040  \n",
       "19                         212579  \n",
       "20                         263388  \n",
       "21                         243020  "
      ]
     },
     "execution_count": 28,
     "metadata": {},
     "output_type": "execute_result"
    }
   ],
   "source": [
    "data"
   ]
  },
  {
   "cell_type": "code",
   "execution_count": 29,
   "id": "8e57b177",
   "metadata": {},
   "outputs": [
    {
     "name": "stdout",
     "output_type": "stream",
     "text": [
      "<class 'pandas.core.frame.DataFrame'>\n",
      "RangeIndex: 22 entries, 0 to 21\n",
      "Data columns (total 5 columns):\n",
      " #   Column                          Non-Null Count  Dtype \n",
      "---  ------                          --------------  ----- \n",
      " 0   Month                           22 non-null     object\n",
      " 1   Region                          22 non-null     object\n",
      " 2   Manager                         22 non-null     object\n",
      " 3   Sales_before_digital_add(in $)  22 non-null     int64 \n",
      " 4   Sales_After_digital_add(in $)   22 non-null     int64 \n",
      "dtypes: int64(2), object(3)\n",
      "memory usage: 1008.0+ bytes\n"
     ]
    }
   ],
   "source": [
    "data.info()"
   ]
  },
  {
   "cell_type": "markdown",
   "id": "4ab54af2",
   "metadata": {},
   "source": [
    "## Question 1"
   ]
  },
  {
   "cell_type": "markdown",
   "id": "58ab91ce",
   "metadata": {},
   "source": [
    "### To check whether there is any increase in sales after stepping into digital marketing ?"
   ]
  },
  {
   "cell_type": "markdown",
   "id": "b72ea625",
   "metadata": {},
   "source": [
    "#### Null Hypothesis : There is no increase in sales\n",
    "#### Alternate Hypothesis : There is an increase in sales"
   ]
  },
  {
   "cell_type": "code",
   "execution_count": 30,
   "id": "e01f4333",
   "metadata": {},
   "outputs": [],
   "source": [
    "from scipy.stats import ttest_ind"
   ]
  },
  {
   "cell_type": "code",
   "execution_count": 31,
   "id": "ae087ed7",
   "metadata": {},
   "outputs": [],
   "source": [
    "tstat , pvalue = ttest_ind(data['Sales_before_digital_add(in $)'],data['Sales_After_digital_add(in $)'])"
   ]
  },
  {
   "cell_type": "code",
   "execution_count": 32,
   "id": "503283ee",
   "metadata": {},
   "outputs": [
    {
     "data": {
      "text/plain": [
       "2.614368006904645e-16"
      ]
     },
     "execution_count": 32,
     "metadata": {},
     "output_type": "execute_result"
    }
   ],
   "source": [
    "pvalue"
   ]
  },
  {
   "cell_type": "code",
   "execution_count": 33,
   "id": "3b2acd41",
   "metadata": {},
   "outputs": [
    {
     "name": "stdout",
     "output_type": "stream",
     "text": [
      "There is an increase in sales\n"
     ]
    }
   ],
   "source": [
    "if pvalue < 0.05:\n",
    "    print('There is an increase in sales')\n",
    "else :\n",
    "    print('There is no increase in sales')"
   ]
  },
  {
   "cell_type": "markdown",
   "id": "fcbc552b",
   "metadata": {},
   "source": [
    "## Question 2"
   ]
  },
  {
   "cell_type": "markdown",
   "id": "cf4244e1",
   "metadata": {},
   "source": [
    "### To check whether there is any dependency between the features “Region” and “Manager”"
   ]
  },
  {
   "cell_type": "code",
   "execution_count": 34,
   "id": "dcfaf816",
   "metadata": {},
   "outputs": [],
   "source": [
    "from scipy.stats import chi2_contingency"
   ]
  },
  {
   "cell_type": "markdown",
   "id": "6bb847b2",
   "metadata": {},
   "source": [
    "#### Null Hypothesis : There is no dependency between Region and Manager\n",
    "#### Alternate Hypothesis : There is dependency between Region and Manager"
   ]
  },
  {
   "cell_type": "code",
   "execution_count": 35,
   "id": "7d87939f",
   "metadata": {},
   "outputs": [],
   "source": [
    "contingency_table = pd.crosstab(data['Region'], data['Manager'])"
   ]
  },
  {
   "cell_type": "code",
   "execution_count": 36,
   "id": "d1f9a2b0",
   "metadata": {},
   "outputs": [],
   "source": [
    "chi_stat, p_value, dof, expected = chi2_contingency(contingency_table)"
   ]
  },
  {
   "cell_type": "code",
   "execution_count": 37,
   "id": "0ef2c234",
   "metadata": {},
   "outputs": [
    {
     "name": "stdout",
     "output_type": "stream",
     "text": [
      "Chi square statistic : 3.050566893424036\n",
      "P value : 0.5493991051158094\n",
      "Degree of Freedom : 4\n",
      "Expected value : [[4.09090909 3.18181818 2.72727273]\n",
      " [2.86363636 2.22727273 1.90909091]\n",
      " [2.04545455 1.59090909 1.36363636]]\n"
     ]
    }
   ],
   "source": [
    "print(f\"Chi square statistic : {chi_stat}\")\n",
    "print(f\"P value : {p_value}\")\n",
    "print(f\"Degree of Freedom : {dof}\")\n",
    "print(f\"Expected value : {expected}\")"
   ]
  },
  {
   "cell_type": "code",
   "execution_count": 38,
   "id": "493ffebc",
   "metadata": {},
   "outputs": [
    {
     "name": "stdout",
     "output_type": "stream",
     "text": [
      "There is no dependency between Region and Manager.\n"
     ]
    }
   ],
   "source": [
    "alpha = 0.05  # significance level\n",
    "\n",
    "if p_value < alpha:\n",
    "    print(\"There is a dependency between Region and Manager.\")\n",
    "else:\n",
    "    print(\"There is no dependency between Region and Manager.\")"
   ]
  },
  {
   "cell_type": "code",
   "execution_count": null,
   "id": "d6cee902",
   "metadata": {},
   "outputs": [],
   "source": []
  }
 ],
 "metadata": {
  "kernelspec": {
   "display_name": "Python 3",
   "language": "python",
   "name": "python3"
  },
  "language_info": {
   "codemirror_mode": {
    "name": "ipython",
    "version": 3
   },
   "file_extension": ".py",
   "mimetype": "text/x-python",
   "name": "python",
   "nbconvert_exporter": "python",
   "pygments_lexer": "ipython3",
   "version": "3.8.8"
  }
 },
 "nbformat": 4,
 "nbformat_minor": 5
}
